{
 "cells": [
  {
   "cell_type": "markdown",
   "metadata": {},
   "source": [
    "# 2021-01-22 Meeting"
   ]
  },
  {
   "cell_type": "markdown",
   "metadata": {},
   "source": [
    "## 본론 첫번째 - Datasets"
   ]
  },
  {
   "cell_type": "markdown",
   "metadata": {},
   "source": [
    "### Data collection : Data의 출처\n",
    "\n",
    "#### Xray\n",
    "1. 처음 데이터셋 (covid와 non covid편차가 심한..)\n",
    "2. 서연이가 올려줬던 데이터셋 (noncoivd 와 covid가 둘다 1대1로 많은 장점이 있으나 글씨가 있어서...)\n",
    "3. 서연이가 두번째로 올려줬던 데이터셋 (test와 train 데이터가 covid_with_폐렴 / covid_without_폐렴 이렇게 나뉘어져있음 -> 제대로된 실험군이 가능하려나 그때 재우한테 물어봤었는데 covid가 폐렴에 동반한다는...거 같았는데 아무튼 애매함)\n",
    "4. github에서 196개의 PA view covid 엑스레이 사진과 kaggle 에서 196개의 non covid 를 셔플 후 선택한 데이터 (이 데이터를 쓴다면, 이부분은 내가 쓸게!)\n",
    "\n",
    "이 중 하나만 언급하거나, 2번같은경우는 실패사례를 곁들이는 것도 좋을듯(영호 부분)\n",
    "그밖에 facebook ai research 에서 open 데이터들이 있긴한것같은데 회원가입해야해서 귀찮아서 안했음..\n",
    "\n",
    "#### Cough Spectrum\n",
    "이부분은 영호가 spectrum 데이터를 kaggle에서 가져온 것 같은데.."
   ]
  },
  {
   "cell_type": "markdown",
   "metadata": {},
   "source": [
    "### Data pre-processing : 전처리\n",
    "\n",
    "#### Xray\n",
    "\n",
    "당연히 전처리가 미리 되어있지 않음.\n",
    "\n",
    "전처리를 할 경우, 우리가 참고한 논문에는 다음과 같은 전처리 과정이 있음.\n",
    "\n",
    "1.이미지 Crop(재우 논문). 즉 폐 부분을 클로즈업(?)하는 느낌.\n",
    "\n",
    "2.Data augmentation의 일종인지는 모르겠으나, Down Sampling을 통해 데이터를 부풀림.\n",
    "\n",
    "3.Rotation Range를 주어서, xray이미지를 수직, 수평으로 flip 함.\n",
    "\n",
    "4.이미지 Crop이 아니라 폐 자체를 학습하여 그부분만 떼어옴(재우)\n",
    "\n",
    "\n",
    "\n",
    "#### Cough Spectrum\n",
    "\n",
    "전처리가 미리 되어있지 않음.\n",
    "\n",
    "1.기존의 RGB 이미지를 gray로 바꾸어준 후, 200에서 255만큼의 threshold.... 이 과정을 영호가 써주셈. 아니면 나랑 간단히 ZOOM 분석으로 같이 분석해주면 내가 글은 쓸수잇음.\n",
    "\n",
    "2.(중요!)Cough Spectrum 본문 언급 부분은 서연이가 맡는 부분이긴 한데, cough spectrum 을 얻어내기 위한?(mel부분) 일련의 과정을 여기에서 언급하면서 시작하면 될듯.. (이부분은 나도 헷갈려서) 서연이가 맡아서 해주고, 나도 주말에 확인하는 느낌으로ㅇㅇ"
   ]
  },
  {
   "cell_type": "markdown",
   "metadata": {},
   "source": [
    "## 본론 두번째 - Proposed Methodology (많지 않은 부분 짧은.)"
   ]
  },
  {
   "cell_type": "markdown",
   "metadata": {},
   "source": [
    "다양한 방법론들. 논문 참고해서 쓰는걸로! (애매함...) 아마도 서연이의 Mel FFT 등등.. 내용 추가\n",
    "grad CAM 방법론적인 부분들."
   ]
  },
  {
   "cell_type": "markdown",
   "metadata": {},
   "source": [
    "## 본론 세번째 - Proposed Model (Network Architecture)"
   ]
  },
  {
   "cell_type": "markdown",
   "metadata": {},
   "source": [
    "#### Xray\n",
    "소영이의 UNet을 이용해서 Xray dataset을 돌려본다.\n",
    "grad CAM\n",
    "#### Cough Spectrum\n",
    "모델도 한번씩 얘기해주고 (Resnet,,, EfficientNet)\n",
    "정확도가 너무 높아서 -> 앙상블, 혹은 Fusion을 굳이 해야하는지?\n",
    "임의적으로 정확도가 낮게 해야하나..? 굳이..?\n",
    "grad CAM에 대한 설명(너랑 나)"
   ]
  },
  {
   "cell_type": "markdown",
   "metadata": {},
   "source": [
    "## 본론 네번째 - Experimental results and evaluation"
   ]
  },
  {
   "cell_type": "markdown",
   "metadata": {},
   "source": [
    "#### Xray\n",
    "그래서 어떻게 나왔냐? 표를 사용해서, Resnet, VGG 각각의 정확도를 Ensemble  정확도와 비교하는 표를 만들면됨. \n",
    "소영이가 UNet 정확도도 같이 비교하면 될듯.\n",
    "#### Cough Spectrum\n",
    "전처리 하면 얼마나 정확도가 높아지는지 비교를 해도 될 듯. \n",
    "(서연아 그 sample rate, 16000, 552와 비교해서 얼마나 정확도가 다른지...?)"
   ]
  },
  {
   "cell_type": "markdown",
   "metadata": {},
   "source": [
    "## 결론 - Conclusions and Discussions"
   ]
  },
  {
   "cell_type": "markdown",
   "metadata": {},
   "source": [
    "결론 대여섯줄로 마무리"
   ]
  },
  {
   "cell_type": "markdown",
   "metadata": {},
   "source": [
    "## 회의 이후\n",
    "23일, 24일, 25일 3일 중 이틀 ZOOM회의\n",
    "\n",
    "#### 23일\n",
    "PPT(서연, 소영) 만들기 시작. 각 본인의 파트(각각) / 본문에서 코드구현 - 9가지 모델, 스펙트럼, grad CAM, CAM -> 재우랑 선우도 같이 붙기. \n",
    "\n",
    "#### 24일\n",
    "소논문 거의 완료 (Abstract, 서론, 본론 결론이 뼈대 및 내용이 다 잡힘\n",
    "\n",
    "#### 25일\n",
    "소논문 완료, PPT, 대본 완료\n",
    "\n",
    "#### 25일 저녁~ 다음날새벽\n",
    "동영상 작업, 녹화, 편집 (소논문 제출 -> 수정사항 있으면 최종 제출)"
   ]
  },
  {
   "cell_type": "code",
   "execution_count": null,
   "metadata": {},
   "outputs": [],
   "source": []
  }
 ],
 "metadata": {
  "kernelspec": {
   "display_name": "Python 3",
   "language": "python",
   "name": "python3"
  },
  "language_info": {
   "codemirror_mode": {
    "name": "ipython",
    "version": 3
   },
   "file_extension": ".py",
   "mimetype": "text/x-python",
   "name": "python",
   "nbconvert_exporter": "python",
   "pygments_lexer": "ipython3",
   "version": "3.8.5"
  }
 },
 "nbformat": 4,
 "nbformat_minor": 4
}
